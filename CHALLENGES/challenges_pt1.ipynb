{
 "cells": [
  {
   "cell_type": "markdown",
   "id": "1787d2c2",
   "metadata": {},
   "source": [
    "Write a function called **list_check**, which accepts a list and returns True if each value in the list is a list. Otherwise the function should return False."
   ]
  },
  {
   "cell_type": "code",
   "execution_count": null,
   "id": "b1c9c31f",
   "metadata": {},
   "outputs": [],
   "source": [
    "def list_check(l):\n",
    "    return all(type(item) == list for item in l)"
   ]
  },
  {
   "cell_type": "markdown",
   "id": "a2c34e99",
   "metadata": {},
   "source": [
    "Write a function called **remove_every_other** that accepts a list and returns a new list with every second value removed."
   ]
  },
  {
   "cell_type": "code",
   "execution_count": null,
   "id": "234ebea2",
   "metadata": {},
   "outputs": [],
   "source": [
    "def remove_every_other(l):\n",
    "    return l[::2]"
   ]
  },
  {
   "cell_type": "markdown",
   "id": "be9e516a",
   "metadata": {},
   "source": [
    "Write a function called **sum_pairs** which accepts a list and a number and returns the first pair of numbers that sum to the number passed to the function."
   ]
  },
  {
   "cell_type": "code",
   "execution_count": 7,
   "id": "37226c63",
   "metadata": {},
   "outputs": [
    {
     "name": "stdout",
     "output_type": "stream",
     "text": [
      "[4, 5]\n"
     ]
    }
   ],
   "source": [
    "def sum_pairs(numbers, target_sum):\n",
    "    seen = set()\n",
    "\n",
    "    for num in numbers:\n",
    "        complement = target_sum - num\n",
    "        if complement in seen:\n",
    "            return [complement, num]\n",
    "        seen.add(num)\n",
    "    return []\n",
    "\n",
    "example = [1,2,3,4,5,6]\n",
    "example_target = 9\n",
    "result = sum_pairs(example, example_target)\n",
    "print(result)\n"
   ]
  }
 ],
 "metadata": {
  "kernelspec": {
   "display_name": "base",
   "language": "python",
   "name": "python3"
  },
  "language_info": {
   "codemirror_mode": {
    "name": "ipython",
    "version": 3
   },
   "file_extension": ".py",
   "mimetype": "text/x-python",
   "name": "python",
   "nbconvert_exporter": "python",
   "pygments_lexer": "ipython3",
   "version": "3.12.7"
  }
 },
 "nbformat": 4,
 "nbformat_minor": 5
}
