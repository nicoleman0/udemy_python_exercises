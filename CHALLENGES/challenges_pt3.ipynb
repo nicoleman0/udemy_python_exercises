{
 "cells": [
  {
   "cell_type": "markdown",
   "id": "720e13d5",
   "metadata": {},
   "source": [
    "1. Write a function called **two_list_dictionary** which accepts two lists of varying lengths.The first list consists of keys and the second one consists of values. Your function should return a dictionary created from the keys and values. If there are not enough values, the remaining keys should have a value of null. If there not enough keys, just ignore the remaining values."
   ]
  },
  {
   "cell_type": "code",
   "execution_count": 3,
   "id": "9ca06f26",
   "metadata": {},
   "outputs": [
    {
     "name": "stdout",
     "output_type": "stream",
     "text": [
      "{'id': 'nicoleman', 'name': 'nicholas coleman', 'age': 24}\n"
     ]
    }
   ],
   "source": [
    "def two_list_dictionary(keys, values) -> dict:\n",
    "    return {key: values[index] if index < len(values) else None for index, key in enumerate(keys)}\n",
    "\n",
    "\n",
    "new_dict = two_list_dictionary(['id', 'name', 'age'], ['nicoleman', 'nicholas coleman', 24])\n",
    "print(new_dict)"
   ]
  },
  {
   "cell_type": "markdown",
   "id": "fbd7259c",
   "metadata": {},
   "source": [
    "2. Write a function called **range_in_list** which accepts a list and start and end indices, and returns the sum of the values between (and including) the start and end index.\n",
    "    \n",
    "    If a start parameter is not passed in, it should default to zero. If an end parameter is not passed in, it should default to the last value in the list. Also, if the end argument is too large, the sum should still go through the end of the list."
   ]
  },
  {
   "cell_type": "code",
   "execution_count": 17,
   "id": "db541a32",
   "metadata": {},
   "outputs": [
    {
     "data": {
      "text/plain": [
       "42"
      ]
     },
     "execution_count": 17,
     "metadata": {},
     "output_type": "execute_result"
    }
   ],
   "source": [
    "def range_in_list(data, start=0, end=None) -> int:\n",
    "    end = end or data[-1]\n",
    "    return sum(data[start:end+1])\n",
    "\n",
    "range_in_list([1,2,3,3,3,3,4,4,5,7,7,8,9,10])"
   ]
  },
  {
   "cell_type": "markdown",
   "id": "6b5d6fb7",
   "metadata": {},
   "source": [
    "3. Write a function called **same_frequency** which accepts two numbers and returns `True` if they contain the same frequency of digits. Otherwise, it returns `False`."
   ]
  },
  {
   "cell_type": "code",
   "execution_count": 24,
   "id": "c989c983",
   "metadata": {},
   "outputs": [
    {
     "name": "stdout",
     "output_type": "stream",
     "text": [
      "False\n"
     ]
    }
   ],
   "source": [
    "def same_frequency(num1, num2) -> bool:\n",
    "    str1 = str(num1)\n",
    "    str2 = str(num2)\n",
    "\n",
    "    freq1 = {}\n",
    "    freq2 = {}\n",
    "\n",
    "    for digit in str1:\n",
    "        freq1[digit] = freq1.get(digit, 0) + 1\n",
    "\n",
    "    for digit in str2:\n",
    "        freq2[digit] = freq2.get(digit, 0) + 1\n",
    "\n",
    "    return freq1 == freq2\n",
    "\n",
    "print(same_frequency(111, 1))"
   ]
  },
  {
   "cell_type": "markdown",
   "id": "f1d89ebe",
   "metadata": {},
   "source": [
    "`same_frequency(num1, num2)`:\n",
    "* numbers are converted into strings, this is necessary because it allows us to iterate over the digits of the numbers\n",
    "* freq1 and freq2 store the frequencies of each digit\n",
    "* the for loops iterate over each character/digit in the strings\n",
    "* then the two frequency dictionaries are compared"
   ]
  },
  {
   "cell_type": "markdown",
   "id": "66f97859",
   "metadata": {},
   "source": [
    "4. Write a function called **nth**, which accepts a list and a number and returns the element at whatever index is the number in the list. If the number is negative, the nth element from the end is returned.\n",
    "\n",
    "    You can assume that number will always be between the negative value of the list length, and the list length minus 1."
   ]
  },
  {
   "cell_type": "code",
   "execution_count": null,
   "id": "e1ff1657",
   "metadata": {},
   "outputs": [
    {
     "name": "stdout",
     "output_type": "stream",
     "text": [
      "1\n"
     ]
    }
   ],
   "source": [
    "def nth(data: list, index_num: int):\n",
    "    return data[index_num]\n",
    "\n",
    "z = nth([1,2,3,4,5], 0)\n",
    "print(z)"
   ]
  },
  {
   "cell_type": "markdown",
   "id": "64012d08",
   "metadata": {},
   "source": [
    "Write a function called **find_the_duplicate** which accepts an array of numbers containing a *single duplicate*. The function returns the number which is a duplicate or None if there are no duplicates."
   ]
  },
  {
   "cell_type": "code",
   "execution_count": 39,
   "id": "06357979",
   "metadata": {},
   "outputs": [
    {
     "name": "stdout",
     "output_type": "stream",
     "text": [
      "3\n"
     ]
    }
   ],
   "source": [
    "def find_the_duplicate(nums):\n",
    "    counter = {}\n",
    "\n",
    "    for val in nums:\n",
    "        if val in counter:\n",
    "            counter[val] += 1\n",
    "        else:\n",
    "            counter[val] = 1\n",
    "    for key in counter.keys():\n",
    "        if counter[key] > 1:\n",
    "            return int(key)\n",
    "\n",
    "print(find_the_duplicate([1,2,3,3,4,5]))"
   ]
  }
 ],
 "metadata": {
  "kernelspec": {
   "display_name": "base",
   "language": "python",
   "name": "python3"
  },
  "language_info": {
   "codemirror_mode": {
    "name": "ipython",
    "version": 3
   },
   "file_extension": ".py",
   "mimetype": "text/x-python",
   "name": "python",
   "nbconvert_exporter": "python",
   "pygments_lexer": "ipython3",
   "version": "3.12.7"
  }
 },
 "nbformat": 4,
 "nbformat_minor": 5
}
