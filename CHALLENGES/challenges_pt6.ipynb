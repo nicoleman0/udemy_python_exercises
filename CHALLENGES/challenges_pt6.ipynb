{
 "cells": [
  {
   "cell_type": "markdown",
   "id": "3a236ebe",
   "metadata": {},
   "source": [
    "Write a function called **letter_counter** which accepts a string and returns a function. When the inner function is invoked it should accept a parameter which is a letter, and the inner function should return the number of times that letter appears. This inner function should be case insensitive."
   ]
  },
  {
   "cell_type": "code",
   "execution_count": null,
   "id": "2991d2f1",
   "metadata": {},
   "outputs": [],
   "source": []
  }
 ],
 "metadata": {
  "kernelspec": {
   "display_name": "base",
   "language": "python",
   "name": "python3"
  },
  "language_info": {
   "name": "python",
   "version": "3.12.7"
  }
 },
 "nbformat": 4,
 "nbformat_minor": 5
}
