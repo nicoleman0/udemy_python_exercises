{
 "cells": [
  {
   "cell_type": "markdown",
   "id": "3a236ebe",
   "metadata": {},
   "source": [
    "Write a function called **letter_counter** which accepts a string and returns a function. When the inner function is invoked it should accept a parameter which is a letter, and the inner function should return the number of times that letter appears. This inner function should be case insensitive."
   ]
  },
  {
   "cell_type": "code",
   "execution_count": 9,
   "id": "2991d2f1",
   "metadata": {},
   "outputs": [
    {
     "name": "stdout",
     "output_type": "stream",
     "text": [
      "1\n"
     ]
    }
   ],
   "source": [
    "def letter_counter(word: str):\n",
    "    word = word.lower()\n",
    "\n",
    "    def inner(letter: str) -> int:\n",
    "        return word.count(letter)\n",
    "\n",
    "    return inner\n",
    "\n",
    "counter = letter_counter(\"Hello world!\")\n",
    "print(counter(\"h\"))"
   ]
  },
  {
   "cell_type": "markdown",
   "id": "350c6028",
   "metadata": {},
   "source": [
    "Write a function called **once**. This function accepts a function and returns a new function that can only be invoked once. If the function is invoked more than once, it should return None. Hint you will need to define a new function inside of your once function and return that function. You can add properties to your inner function to see if it has run already."
   ]
  },
  {
   "cell_type": "code",
   "execution_count": 10,
   "id": "5f49de04",
   "metadata": {},
   "outputs": [
    {
     "name": "stdout",
     "output_type": "stream",
     "text": [
      "Hello, world!\n"
     ]
    }
   ],
   "source": [
    "def once(func):\n",
    "    def wrapper(*args, **kwargs):\n",
    "        if not hasattr(wrapper, 'has_run'):\n",
    "            wrapper.has_run = True\n",
    "            return func(*args, **kwargs)\n",
    "    return wrapper\n",
    "\n",
    "def hello():\n",
    "    print(\"Hello, world!\")\n",
    "\n",
    "hello_once = once(hello)\n",
    "hello_once()  # prints \"Hello, world!\"\n",
    "hello_once()  # does nothing"
   ]
  },
  {
   "cell_type": "markdown",
   "id": "40592b61",
   "metadata": {},
   "source": [
    "Write a function called **next_prime**, which returns a generator that will yield an unlimited number of primes, starting from the first prime (2).\n",
    "\n",
    "Recall that a prime number is any whole number that has exactly two divisors: one and the number itself. The first few primes are 2, 3, 5, 7, 11, ... ."
   ]
  },
  {
   "cell_type": "code",
   "execution_count": 3,
   "id": "96d6dd8c",
   "metadata": {},
   "outputs": [
    {
     "name": "stdout",
     "output_type": "stream",
     "text": [
      "2\n",
      "3\n",
      "5\n"
     ]
    }
   ],
   "source": [
    "def next_prime():\n",
    "    def is_prime(n):\n",
    "        if n < 2:\n",
    "            return False\n",
    "        for i in range(2, int(n**0.5) + 1):\n",
    "            if n % i == 0:\n",
    "                return False\n",
    "        return True\n",
    "\n",
    "    num = 2\n",
    "    while True:\n",
    "        if is_prime(num):\n",
    "            yield num\n",
    "        num += 1\n",
    "\n",
    "primes = next_prime()\n",
    "print(next(primes))  # prints 2\n",
    "print(next(primes))  # prints 3\n",
    "print(next(primes))  # prints 5"
   ]
  }
 ],
 "metadata": {
  "kernelspec": {
   "display_name": "base",
   "language": "python",
   "name": "python3"
  },
  "language_info": {
   "codemirror_mode": {
    "name": "ipython",
    "version": 3
   },
   "file_extension": ".py",
   "mimetype": "text/x-python",
   "name": "python",
   "nbconvert_exporter": "python",
   "pygments_lexer": "ipython3",
   "version": "3.12.7"
  }
 },
 "nbformat": 4,
 "nbformat_minor": 5
}
