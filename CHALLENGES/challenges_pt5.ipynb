{
 "cells": [
  {
   "cell_type": "markdown",
   "id": "7250cff4",
   "metadata": {},
   "source": [
    "Write a function called **valid_parentheses** that takes a string of parentheses, and determines if the order of the parentheses is valid. **valid_parentheses** should return true if the string is valid, and false if it's invalid."
   ]
  },
  {
   "cell_type": "code",
   "execution_count": null,
   "id": "75b45b55",
   "metadata": {},
   "outputs": [],
   "source": [
    "def valid_parentheses(sequence:str) -> bool:\n",
    "    stack = []\n",
    "    opening = \"({[\"\n",
    "    closing = \")}]\"\n",
    "    pair = {')':'(', '}':'{', ']':'['}\n",
    "    for char in sequence:\n",
    "        if char in opening:\n",
    "            stack.append(char)\n",
    "        elif char in closing:\n",
    "            if not stack or stack[-1] != pair[char]:\n",
    "                return False\n",
    "            stack.pop()\n",
    "        else:\n",
    "            continue\n",
    "    if not stack:\n",
    "        return True\n",
    "    else:\n",
    "        return False"
   ]
  },
  {
   "cell_type": "markdown",
   "id": "0618d915",
   "metadata": {},
   "source": [
    "Write a function called **reverse_vowels**. This function should reverse the vowels in a string. Any characters which are not vowels should remain in their original position. You should not consider \"y\" to be a vowel."
   ]
  },
  {
   "cell_type": "code",
   "execution_count": 1,
   "id": "321c5858",
   "metadata": {},
   "outputs": [
    {
     "name": "stdout",
     "output_type": "stream",
     "text": [
      "hollo werld\n"
     ]
    }
   ],
   "source": [
    "def reverse_vowels(s:str) -> str:\n",
    "    vowels = set(\"aeiouAEIOU\")\n",
    "    s = list(s)\n",
    "    # Two pointers \n",
    "    left, right = 0, len(s) - 1\n",
    "    while left < right:\n",
    "        while left < right and s[left] not in vowels:\n",
    "            left += 1\n",
    "        while left < right and s[right] not in vowels:\n",
    "            right -= 1\n",
    "        \n",
    "        # Swapping vowels\n",
    "        s[left], s[right] = s[right], s[left]\n",
    "        left += 1\n",
    "        right -= 1\n",
    "    \n",
    "    return ''.join(s)\n",
    "\n",
    "print(reverse_vowels(\"hello world\"))"
   ]
  },
  {
   "cell_type": "markdown",
   "id": "9b453668",
   "metadata": {},
   "source": [
    "Write a function called **three_odd_numbers**, which accepts a list of numbers and returns `True`  if any three consecutive numbers sum to an odd number."
   ]
  },
  {
   "cell_type": "code",
   "execution_count": 2,
   "id": "2a7ffddf",
   "metadata": {},
   "outputs": [
    {
     "name": "stdout",
     "output_type": "stream",
     "text": [
      "True\n"
     ]
    }
   ],
   "source": [
    "def three_odd_numbers(nums:list) -> bool:\n",
    "    # Check if list has at least 3 numbers\n",
    "    if len(nums) < 3:\n",
    "        return False\n",
    "    \n",
    "    # Check each consecutive group of three numbers\n",
    "    # -2 to avoid index out of range\n",
    "    for i in range(len(nums) - 2):\n",
    "        if (nums[i] + nums[i+1] + nums[i+2]) % 2 != 0:\n",
    "            return True\n",
    "    \n",
    "    return False"
   ]
  },
  {
   "cell_type": "markdown",
   "id": "70e07d97",
   "metadata": {},
   "source": [
    "Write a function called **mode**. This function accepts a list of numbers and returns the most frequent number in the list of numbers. You can assume that the mode will be unique."
   ]
  },
  {
   "cell_type": "code",
   "execution_count": 3,
   "id": "558a3fdf",
   "metadata": {},
   "outputs": [
    {
     "name": "stdout",
     "output_type": "stream",
     "text": [
      "4\n"
     ]
    }
   ],
   "source": [
    "def mode(numbers:list) -> int:\n",
    "    frequency = {}\n",
    "    # Count frequency of each number\n",
    "    for num in numbers:\n",
    "        frequency[num] = frequency.get(num, 0) + 1  # default to 0 if not present\n",
    "    \n",
    "    most_frequent = max(frequency, key=frequency.get)\n",
    "    return most_frequent\n",
    "\n",
    "numbers = [1, 2, 2, 3, 4, 4, 4, 5, 6, 6]\n",
    "print(mode(numbers))"
   ]
  },
  {
   "cell_type": "markdown",
   "id": "afd4e967",
   "metadata": {},
   "source": [
    "Create a function **running_average** that returns a function. When the function returned is passed a value, the function returns the current average of all previous function calls. You will have to use closure to solve this. You should round all answers to the 2nd decimal place."
   ]
  },
  {
   "cell_type": "code",
   "execution_count": 4,
   "id": "226144af",
   "metadata": {},
   "outputs": [
    {
     "name": "stdout",
     "output_type": "stream",
     "text": [
      "10.0\n",
      "15.0\n"
     ]
    }
   ],
   "source": [
    "def running_average():\n",
    "    running_average.accumulated = 0\n",
    "    running_average.count = 0\n",
    "\n",
    "    def inner(number):\n",
    "        running_average.accumulated += number\n",
    "        running_average.count += 1\n",
    "        return running_average.accumulated / running_average.count\n",
    "    \n",
    "    return inner\n",
    "\n",
    "# Example usage\n",
    "rAvg = running_average()\n",
    "print(rAvg(10))  # Output: 10.0\n",
    "print(rAvg(20))  # Output: 15.0"
   ]
  }
 ],
 "metadata": {
  "kernelspec": {
   "display_name": "base",
   "language": "python",
   "name": "python3"
  },
  "language_info": {
   "codemirror_mode": {
    "name": "ipython",
    "version": 3
   },
   "file_extension": ".py",
   "mimetype": "text/x-python",
   "name": "python",
   "nbconvert_exporter": "python",
   "pygments_lexer": "ipython3",
   "version": "3.12.7"
  }
 },
 "nbformat": 4,
 "nbformat_minor": 5
}
