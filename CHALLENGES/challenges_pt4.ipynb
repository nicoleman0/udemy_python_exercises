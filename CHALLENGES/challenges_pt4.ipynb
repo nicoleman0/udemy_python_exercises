{
 "cells": [
  {
   "cell_type": "markdown",
   "id": "62942e27",
   "metadata": {},
   "source": [
    "Write a function called **sum_up_diagonals** which accepts an NxN list of lists and sums the two main diagonals in the array: the one from the upper left to the lower right, and the one from the upper right to the lower left."
   ]
  },
  {
   "cell_type": "code",
   "execution_count": 1,
   "id": "f8917d54",
   "metadata": {},
   "outputs": [
    {
     "name": "stdout",
     "output_type": "stream",
     "text": [
      "10\n"
     ]
    }
   ],
   "source": [
    "list1 = [\n",
    "  [ 1, 2 ],\n",
    "  [ 3, 4 ]\n",
    "]\n",
    "\n",
    "def sum_up_diagonals(array):\n",
    "    if not array:\n",
    "        return 0\n",
    "\n",
    "    if len(array) != len(array[0]):\n",
    "        return 0\n",
    "\n",
    "    n = len(array)\n",
    "    left_diagonal_sum = 0\n",
    "    right_diagonal_sum = 0\n",
    "    for i in range(n):\n",
    "        left_diagonal_sum += array[i][i]\n",
    "        right_diagonal_sum += array[i][n - 1 - i]\n",
    "\n",
    "    return left_diagonal_sum + right_diagonal_sum\n",
    "print(sum_up_diagonals(list1))"
   ]
  },
  {
   "cell_type": "markdown",
   "id": "09f16779",
   "metadata": {},
   "source": [
    "Write a function called **min_max_key_in_dictionary** which returns a list with the lowest key in the dictionary and the highest key in the dictionary. You can assume that the dictionary will have keys that are numbers."
   ]
  },
  {
   "cell_type": "code",
   "execution_count": 2,
   "id": "9e66daf2",
   "metadata": {},
   "outputs": [
    {
     "name": "stdout",
     "output_type": "stream",
     "text": [
      "[1, 3]\n"
     ]
    }
   ],
   "source": [
    "def min_max_key_in_dict(dictionary: dict[int, str]) -> list:\n",
    "    if not dictionary:\n",
    "        return []\n",
    "    \n",
    "    min_key = min(dictionary.keys())\n",
    "    max_key = max(dictionary.keys())\n",
    "\n",
    "    return [min_key, max_key]\n",
    "\n",
    "print(min_max_key_in_dict({1: 'a', 2: 'b', 3: 'c'}))"
   ]
  }
 ],
 "metadata": {
  "kernelspec": {
   "display_name": "base",
   "language": "python",
   "name": "python3"
  },
  "language_info": {
   "codemirror_mode": {
    "name": "ipython",
    "version": 3
   },
   "file_extension": ".py",
   "mimetype": "text/x-python",
   "name": "python",
   "nbconvert_exporter": "python",
   "pygments_lexer": "ipython3",
   "version": "3.12.7"
  }
 },
 "nbformat": 4,
 "nbformat_minor": 5
}
