{
 "cells": [
  {
   "cell_type": "markdown",
   "id": "62942e27",
   "metadata": {},
   "source": [
    "Write a function called **sum_up_diagonals** which accepts an NxN list of lists and sums the two main diagonals in the array: the one from the upper left to the lower right, and the one from the upper right to the lower left."
   ]
  },
  {
   "cell_type": "code",
   "execution_count": 1,
   "id": "f8917d54",
   "metadata": {},
   "outputs": [
    {
     "name": "stdout",
     "output_type": "stream",
     "text": [
      "10\n"
     ]
    }
   ],
   "source": [
    "list1 = [\n",
    "  [ 1, 2 ],\n",
    "  [ 3, 4 ]\n",
    "]\n",
    "\n",
    "def sum_up_diagonals(array):\n",
    "    if not array:\n",
    "        return 0\n",
    "\n",
    "    if len(array) != len(array[0]):\n",
    "        return 0\n",
    "\n",
    "    n = len(array)\n",
    "    left_diagonal_sum = 0\n",
    "    right_diagonal_sum = 0\n",
    "    for i in range(n):\n",
    "        left_diagonal_sum += array[i][i]\n",
    "        right_diagonal_sum += array[i][n - 1 - i]\n",
    "\n",
    "    return left_diagonal_sum + right_diagonal_sum\n",
    "print(sum_up_diagonals(list1))"
   ]
  },
  {
   "cell_type": "markdown",
   "id": "09f16779",
   "metadata": {},
   "source": [
    "Write a function called **min_max_key_in_dictionary** which returns a list with the lowest key in the dictionary and the highest key in the dictionary. You can assume that the dictionary will have keys that are numbers."
   ]
  },
  {
   "cell_type": "code",
   "execution_count": 2,
   "id": "9e66daf2",
   "metadata": {},
   "outputs": [
    {
     "name": "stdout",
     "output_type": "stream",
     "text": [
      "[1, 3]\n"
     ]
    }
   ],
   "source": [
    "def min_max_key_in_dict(dictionary: dict[int, str]) -> list:\n",
    "    if not dictionary:\n",
    "        return []\n",
    "    \n",
    "    min_key = min(dictionary.keys())\n",
    "    max_key = max(dictionary.keys())\n",
    "\n",
    "    return [min_key, max_key]\n",
    "\n",
    "print(min_max_key_in_dict({1: 'a', 2: 'b', 3: 'c'}))"
   ]
  },
  {
   "cell_type": "markdown",
   "id": "b89ff103",
   "metadata": {},
   "source": [
    "Write a function called **find_greater_numbers** which accepts a list and returns the number of times a number is followed by a larger number across the entire list. "
   ]
  },
  {
   "cell_type": "code",
   "execution_count": 1,
   "id": "19788419",
   "metadata": {},
   "outputs": [
    {
     "name": "stdout",
     "output_type": "stream",
     "text": [
      "7\n"
     ]
    }
   ],
   "source": [
    "def find_greater_numbers(numbers: list[int]) -> int:\n",
    "    pair_count = 0\n",
    "    for current_index in range(len(numbers)):\n",
    "        for next_index in range(current_index + 1, len(numbers)):\n",
    "            if numbers[current_index] < numbers[next_index]:\n",
    "                pair_count += 1\n",
    "    return pair_count\n",
    "\n",
    "print(find_greater_numbers([12, 39, 59, 20, 21, 4, 2, 3, 1]))"
   ]
  },
  {
   "cell_type": "markdown",
   "id": "63a4d03e",
   "metadata": {},
   "source": [
    "Write a function called **two_oldest_ages**. The function should take a list of numbers as its argument and return the two highest numbers within the list. The returned value should be a list in the format [second oldest age, oldest age].\n",
    "\n",
    "The order of the numbers passed in could be any order."
   ]
  },
  {
   "cell_type": "code",
   "execution_count": 5,
   "id": "dc63b198",
   "metadata": {},
   "outputs": [
    {
     "name": "stdout",
     "output_type": "stream",
     "text": [
      "[4, 5]\n"
     ]
    }
   ],
   "source": [
    "def two_oldest_ages(ages):\n",
    "    return sorted(ages)[-2:]\n",
    "\n",
    "print(two_oldest_ages([1, 5, 3, 4, 2]))"
   ]
  },
  {
   "cell_type": "markdown",
   "id": "f2fc76e7",
   "metadata": {},
   "source": [
    "Write a function called **is_odd_string** which returns true if sum of each character's position in the alphabet is odd. For example, \"a\" is in the first position, \"b\" is in the second position, and so on. If the sum is even, return false.  NOTE: INDEXING STARTS AT 1.  A is position 1, NOT POSITION 0."
   ]
  },
  {
   "cell_type": "code",
   "execution_count": null,
   "id": "aa9ac47d",
   "metadata": {},
   "outputs": [
    {
     "name": "stdout",
     "output_type": "stream",
     "text": [
      "True\n"
     ]
    }
   ],
   "source": [
    "def is_odd_string(string:str) -> bool:\n",
    "    if not string:\n",
    "        return False\n",
    "    \n",
    "    odd_sum = 0\n",
    "    for char in string.lower():\n",
    "        # ord(char) gives the ASCII value of the character\n",
    "        # 'a' value is 97, so we subtract 96 to get 1 for 'a', 2 for 'b', etc.\n",
    "        odd_sum += ord(char) - 96\n",
    "    return odd_sum % 2 == 1\n",
    "    \n",
    "print(is_odd_string(\"hellos\"))"
   ]
  }
 ],
 "metadata": {
  "kernelspec": {
   "display_name": "base",
   "language": "python",
   "name": "python3"
  },
  "language_info": {
   "codemirror_mode": {
    "name": "ipython",
    "version": 3
   },
   "file_extension": ".py",
   "mimetype": "text/x-python",
   "name": "python",
   "nbconvert_exporter": "python",
   "pygments_lexer": "ipython3",
   "version": "3.12.7"
  }
 },
 "nbformat": 4,
 "nbformat_minor": 5
}
