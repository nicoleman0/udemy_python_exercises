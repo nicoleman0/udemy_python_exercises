{
 "cells": [
  {
   "cell_type": "markdown",
   "id": "43cbd922",
   "metadata": {},
   "source": [
    "Write a function called **titleize** which accepts a string of words and returns a new string with the first letter of every word in the string capitalized."
   ]
  },
  {
   "cell_type": "code",
   "execution_count": 10,
   "id": "1c553b4f",
   "metadata": {},
   "outputs": [],
   "source": [
    "def titleize(string: str) -> str:\n",
    "    return ' '.join(s[0].upper() + s[1:] for s in string.split(' '))"
   ]
  }
 ],
 "metadata": {
  "kernelspec": {
   "display_name": "base",
   "language": "python",
   "name": "python3"
  },
  "language_info": {
   "codemirror_mode": {
    "name": "ipython",
    "version": 3
   },
   "file_extension": ".py",
   "mimetype": "text/x-python",
   "name": "python",
   "nbconvert_exporter": "python",
   "pygments_lexer": "ipython3",
   "version": "3.12.7"
  }
 },
 "nbformat": 4,
 "nbformat_minor": 5
}
