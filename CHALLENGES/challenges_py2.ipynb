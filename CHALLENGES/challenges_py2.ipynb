{
 "cells": [
  {
   "cell_type": "markdown",
   "id": "43cbd922",
   "metadata": {},
   "source": [
    "Write a function called **titleize** which accepts a string of words and returns a new string with the first letter of every word in the string capitalized."
   ]
  },
  {
   "cell_type": "markdown",
   "id": "01de41ea",
   "metadata": {},
   "source": [
    "* The code takes in a string. Then every word is extracted, using `split(' ')`. This splits the string based on spaces. \n",
    "* The first letter of each word, `s[0]` is capitalized using `upper()`. \n",
    "* Each first letter is then concatenated with the rest of its word, using `+ s[1::]`. \n",
    "* The words are put back together into one string seperated by a space, using `' '.join()`. "
   ]
  },
  {
   "cell_type": "code",
   "execution_count": null,
   "id": "1c553b4f",
   "metadata": {},
   "outputs": [],
   "source": [
    "def titleize(string: str) -> str:\n",
    "    return ' '.join(s[0].upper() + s[1:] for s in string.split(' '))\n",
    "\n",
    "titleize(\"hello there bud\")"
   ]
  },
  {
   "cell_type": "markdown",
   "id": "987f91a8",
   "metadata": {},
   "source": [
    "Write a function called **find_factors** which accepts a number and returns a list of all of the numbers which it is divisible by starting from 1 and going up to the number."
   ]
  },
  {
   "cell_type": "code",
   "execution_count": null,
   "id": "a132ca48",
   "metadata": {},
   "outputs": [],
   "source": [
    "def find_factors(num: int) -> list:\n",
    "    factors = []\n",
    "\n",
    "    for i in range(1, num + 1):\n",
    "        if num % i == 0:\n",
    "            factors.append(i)\n",
    "    return factors\n",
    "    \n",
    "factor = find_factors(100)\n",
    "print(factor)"
   ]
  },
  {
   "cell_type": "markdown",
   "id": "59e1ad0b",
   "metadata": {},
   "source": [
    "Write a function called **includes** which accepts a collection, a value, and an optional starting index. The function should return True if the value exists in the collection when we search starting from the starting index. Otherwise, it should return False.\n",
    "\n",
    "The collection can be a string, a list, or a dictionary. If the collection is a string or array, the third parameter is a starting index for where to search from. If the collection is a dictionary, the function searches for the value among values in the dictionary; since objects have no sort order, the third parameter is ignored."
   ]
  },
  {
   "cell_type": "code",
   "execution_count": null,
   "id": "215e1df5",
   "metadata": {},
   "outputs": [],
   "source": [
    "def includes(collection, value, start_index=None) -> bool:\n",
    "    if type(collection) == dict:\n",
    "        return value in collection.values()\n",
    "    if start_index is None:\n",
    "        return value in collection\n",
    "    return value in collection[start_index:]\n",
    "    \n",
    "yurr = includes([1,2,3,4,5], 2)\n",
    "print(yurr)"
   ]
  },
  {
   "cell_type": "markdown",
   "id": "499986f0",
   "metadata": {},
   "source": [
    "Write a function called **repeat**, which accepts a string and a number and returns a new string with the string passed to the function repeated the number amount of times. Do not use the built in repeat method!"
   ]
  },
  {
   "cell_type": "code",
   "execution_count": null,
   "id": "4af10c7a",
   "metadata": {},
   "outputs": [],
   "source": [
    "def repeat(word:str, num:int) -> str:\n",
    "    return word * num"
   ]
  },
  {
   "cell_type": "markdown",
   "id": "46f976db",
   "metadata": {},
   "source": [
    "Write a function called **truncate** that will shorten a string to a specified length, and add \"...\" to the end.  Given a string and a number n, truncate the string to a shorter string containing at most n characters. For example, `truncate(\"long string\", 5)`  should return a 5 character truncated version of \"long string\".  If the string gets truncated, the truncated return string should have a \"...\" at the end. Because of this, the smallest number passed in as a second argument should be 3. "
   ]
  },
  {
   "cell_type": "code",
   "execution_count": null,
   "id": "527856d0",
   "metadata": {},
   "outputs": [],
   "source": [
    "def truncate(string, max_length):\n",
    "    if max_length < 3:\n",
    "        return \"Truncation must be at least 3 characters.\"\n",
    "    if max_length > len(string) + 2:\n",
    "        return string\n",
    "    return string[:max_length - 3] + \"...\"\n",
    "\n",
    "\n",
    "short = truncate(\"A really long sentence that has no business being this damn long.\", 15)\n",
    "print(short)"
   ]
  }
 ],
 "metadata": {
  "kernelspec": {
   "display_name": "base",
   "language": "python",
   "name": "python3"
  },
  "language_info": {
   "codemirror_mode": {
    "name": "ipython",
    "version": 3
   },
   "file_extension": ".py",
   "mimetype": "text/x-python",
   "name": "python",
   "nbconvert_exporter": "python",
   "pygments_lexer": "ipython3",
   "version": "3.12.7"
  }
 },
 "nbformat": 4,
 "nbformat_minor": 5
}
